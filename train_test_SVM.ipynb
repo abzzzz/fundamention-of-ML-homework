{
 "cells": [
  {
   "cell_type": "code",
   "execution_count": 14,
   "metadata": {},
   "outputs": [
    {
     "name": "stdout",
     "output_type": "stream",
     "text": [
      "0.633333333333\n",
      "('training_accuracy', 0.6333333333333333)\n",
      "0.516666666667\n",
      "('testing_accuracy', 0.51666666666666672)\n"
     ]
    }
   ],
   "source": [
    "import numpy as np\n",
    "from sklearn import svm,datasets\n",
    "from sklearn.model_selection import train_test_split\n",
    "from sklearn.metrics import accuracy_score\n",
    "\n",
    "iris = datasets.load_iris()\n",
    "x, y = iris.data[:, :2], iris.target\n",
    "x_train,x_test,y_train,y_test = train_test_split(x,y,random_state=1,train_size=0.6)\n",
    "\n",
    "clf= svm.SVC(C=0.08, kernel='rbf',gamma=10,decision_function_shape='ovr')\n",
    "clf.fit(x_train,y_train.ravel())\n",
    "\n",
    "print(clf.score(x_train,y_train))\n",
    "print('training_accuracy',accuracy_score(y_train,clf.predict(x_train)))\n",
    "print(clf.score(x_test,y_test))\n",
    "print('testing_accuracy',accuracy_score(y_test,clf.predict(x_test)))\n"
   ]
  },
  {
   "cell_type": "code",
   "execution_count": null,
   "metadata": {
    "collapsed": true
   },
   "outputs": [],
   "source": []
  }
 ],
 "metadata": {
  "kernelspec": {
   "display_name": "Python 2",
   "language": "python",
   "name": "python2"
  },
  "language_info": {
   "codemirror_mode": {
    "name": "ipython",
    "version": 2
   },
   "file_extension": ".py",
   "mimetype": "text/x-python",
   "name": "python",
   "nbconvert_exporter": "python",
   "pygments_lexer": "ipython2",
   "version": "2.7.13"
  }
 },
 "nbformat": 4,
 "nbformat_minor": 2
}
